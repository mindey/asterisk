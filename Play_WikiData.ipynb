{
 "cells": [
  {
   "cell_type": "markdown",
   "metadata": {},
   "source": [
    "# Play with [WikiData](https://wikidata.org)\n",
    "\n",
    "https://github.com/mindey/asterisk.git"
   ]
  },
  {
   "cell_type": "code",
   "execution_count": 1,
   "metadata": {},
   "outputs": [],
   "source": [
    "import asterisk as rx"
   ]
  },
  {
   "cell_type": "code",
   "execution_count": 2,
   "metadata": {},
   "outputs": [],
   "source": [
    "Universe = rx.Concept('Q1')"
   ]
  },
  {
   "cell_type": "code",
   "execution_count": 3,
   "metadata": {},
   "outputs": [
    {
     "name": "stdout",
     "output_type": "stream",
     "text": [
      "Q1 (The Universe)\n",
      "\n",
      "Propositions\n",
      "============\n",
      "Q1 : P646.statement : {u'type': u'string', u'value': u'/m/07v7c'}\n",
      "Q1 : P2670.statement : {u'type': u'wikibase-entityid', u'value': {u'id': u'Q523', u'entit\n"
     ]
    }
   ],
   "source": [
    "print Universe.__doc__[:200]"
   ]
  },
  {
   "cell_type": "code",
   "execution_count": 4,
   "metadata": {},
   "outputs": [
    {
     "name": "stdout",
     "output_type": "stream",
     "text": [
      "{u'entities': {u'Q1': {u'lastrevid': 381368065, u'pageid': 129, u'sitelinks': {u'fiwiki': {u'site': u'fiwiki', u'badges': [u'Q17437796'], u'title': u'Maailmankaikkeus'}, u'napwiki': {u'site': u'napwik\n"
     ]
    }
   ],
   "source": [
    "print unicode(Universe.wdjson)[:200]"
   ]
  },
  {
   "cell_type": "code",
   "execution_count": 5,
   "metadata": {},
   "outputs": [
    {
     "data": {
      "text/plain": [
       "['P1036',\n",
       " 'P1051',\n",
       " 'P1245',\n",
       " 'P1296',\n",
       " 'P1417',\n",
       " 'P1419',\n",
       " 'P18',\n",
       " 'P2184',\n",
       " 'P227',\n",
       " 'P2612',\n",
       " 'P2670',\n",
       " 'P2959',\n",
       " 'P31',\n",
       " 'P349',\n",
       " 'P361',\n",
       " 'P373',\n",
       " 'P508',\n",
       " 'P527',\n",
       " 'P580',\n",
       " 'P646',\n",
       " 'P793',\n",
       " 'P910',\n",
       " '__doc__',\n",
       " '__init__',\n",
       " '__module__',\n",
       " '__repr__',\n",
       " '__unicode__',\n",
       " 'as_languages',\n",
       " 'languages',\n",
       " 'wdjson']"
      ]
     },
     "execution_count": 5,
     "metadata": {},
     "output_type": "execute_result"
    }
   ],
   "source": [
    "dir(Universe)"
   ]
  },
  {
   "cell_type": "code",
   "execution_count": 6,
   "metadata": {},
   "outputs": [
    {
     "data": {
      "text/plain": [
       "[{u'id': u'Q1$f5d5115d-489a-7654-9a0a-5eea5be80d07',\n",
       "  u'mainsnak': {u'datatype': u'string',\n",
       "   u'datavalue': {u'type': u'string', u'value': u'113'},\n",
       "   u'property': u'P1036',\n",
       "   u'snaktype': u'value'},\n",
       "  u'rank': u'normal',\n",
       "  u'type': u'statement'},\n",
       " {u'id': u'Q1$f3c718d6-46cd-832b-4365-b6d7c571f594',\n",
       "  u'mainsnak': {u'datatype': u'string',\n",
       "   u'datavalue': {u'type': u'string', u'value': u'523.1'},\n",
       "   u'property': u'P1036',\n",
       "   u'snaktype': u'value'},\n",
       "  u'rank': u'normal',\n",
       "  u'type': u'statement'}]"
      ]
     },
     "execution_count": 6,
     "metadata": {},
     "output_type": "execute_result"
    }
   ],
   "source": [
    "Universe.P1036"
   ]
  },
  {
   "cell_type": "code",
   "execution_count": 7,
   "metadata": {},
   "outputs": [
    {
     "data": {
      "text/plain": [
       "{'gravity constant': 11.5}"
      ]
     },
     "execution_count": 7,
     "metadata": {},
     "output_type": "execute_result"
    }
   ],
   "source": [
    "universe = Universe({'gravity constant': 11.5})\n",
    "universe.details"
   ]
  },
  {
   "cell_type": "code",
   "execution_count": 8,
   "metadata": {},
   "outputs": [
    {
     "name": "stdout",
     "output_type": "stream",
     "text": [
      "| kosmo | The Universe | cosmos | cosmo | cosmu | cosmos | veškerenstvo | jagad raya | Cosmos | Мир | universum | Universo | kosmosas | బ్రహ్మాండం | kosmos | பிரபஞ்சம் | cosmos | Космос | kozmos | Weltall | univerzum | جهان | Svemir | universumi | კოსმოსი | ലോകം | Kosmos | универзум | Universum | uniberso |\n"
     ]
    }
   ],
   "source": [
    "print universe.as_languages(Universe.languages)"
   ]
  },
  {
   "cell_type": "markdown",
   "metadata": {},
   "source": [
    "## Dog"
   ]
  },
  {
   "cell_type": "code",
   "execution_count": 9,
   "metadata": {},
   "outputs": [],
   "source": [
    "Dog = rx.Concept('Q144')"
   ]
  },
  {
   "cell_type": "code",
   "execution_count": 10,
   "metadata": {},
   "outputs": [
    {
     "data": {
      "text/plain": [
       "Q144 ({'number to own as a pet': 1, 'color to have': 'black'})"
      ]
     },
     "execution_count": 10,
     "metadata": {},
     "output_type": "execute_result"
    }
   ],
   "source": [
    "d = Dog({'number to own as a pet': 1, 'color to have': 'black'})\n",
    "d"
   ]
  },
  {
   "cell_type": "code",
   "execution_count": 11,
   "metadata": {},
   "outputs": [
    {
     "name": "stdout",
     "output_type": "stream",
     "text": [
      "| σκυλί | Canis lupus familiaris | Canis lupus familiaris | 狗 | Šou | Canis lupus familiaris | 狗 | cachorro | can | Canis lupus familiaris | Canis lupus familiaris | Cães | 狗 | tamhund | Káu-á | 狗 | Hoond | Canis lupus familiaris | Canis Domesticus | Canis lupus familiaris | 狗 | Hund | Canis lupus familiaris | Chas | tamhund | Canis lupus familiaris | 멍멍이 | пес | 犬 |\n"
     ]
    }
   ],
   "source": [
    "print d.as_languages(d.languages)"
   ]
  },
  {
   "cell_type": "markdown",
   "metadata": {},
   "source": [
    "# Originally"
   ]
  },
  {
   "cell_type": "code",
   "execution_count": 12,
   "metadata": {},
   "outputs": [],
   "source": [
    "import pandas as pd\n",
    "import asterisk as rx"
   ]
  },
  {
   "cell_type": "code",
   "execution_count": 13,
   "metadata": {},
   "outputs": [],
   "source": [
    "js = rx.get_json('Q1')"
   ]
  },
  {
   "cell_type": "markdown",
   "metadata": {},
   "source": [
    "## Structure of Qs:\n",
    "So, there are essentialy two things, which they are composed of -- is the 'aliases', which are the definitions and labels in all languages, and the 'claims', which are describing the relations with other concepts."
   ]
  },
  {
   "cell_type": "markdown",
   "metadata": {},
   "source": [
    "### Aliases"
   ]
  },
  {
   "cell_type": "code",
   "execution_count": 14,
   "metadata": {},
   "outputs": [
    {
     "data": {
      "text/plain": [
       "[{u'language': u'en', u'value': u'The Universe'},\n",
       " {u'language': u'en', u'value': u'space'},\n",
       " {u'language': u'en', u'value': u'outerspace'},\n",
       " {u'language': u'en', u'value': u'Cosmos'}]"
      ]
     },
     "execution_count": 14,
     "metadata": {},
     "output_type": "execute_result"
    }
   ],
   "source": [
    "js['entities']['Q1']['aliases']['en']"
   ]
  },
  {
   "cell_type": "code",
   "execution_count": 15,
   "metadata": {},
   "outputs": [
    {
     "data": {
      "text/html": [
       "<div>\n",
       "<table border=\"1\" class=\"dataframe\">\n",
       "  <thead>\n",
       "    <tr style=\"text-align: right;\">\n",
       "      <th></th>\n",
       "      <th>0</th>\n",
       "    </tr>\n",
       "  </thead>\n",
       "  <tbody>\n",
       "    <tr>\n",
       "      <th>bg</th>\n",
       "      <td>[{u'value': u'Космос', u'language': u'bg'}, {u...</td>\n",
       "    </tr>\n",
       "    <tr>\n",
       "      <th>bs</th>\n",
       "      <td>[{u'value': u'Svemir', u'language': u'bs'}, {u...</td>\n",
       "    </tr>\n",
       "    <tr>\n",
       "      <th>ca</th>\n",
       "      <td>[{u'value': u'cosmos', u'language': u'ca'}]</td>\n",
       "    </tr>\n",
       "    <tr>\n",
       "      <th>cs</th>\n",
       "      <td>[{u'value': u'veškerenstvo', u'language': u'cs...</td>\n",
       "    </tr>\n",
       "    <tr>\n",
       "      <th>de</th>\n",
       "      <td>[{u'value': u'Weltall', u'language': u'de'}, {...</td>\n",
       "    </tr>\n",
       "  </tbody>\n",
       "</table>\n",
       "</div>"
      ],
      "text/plain": [
       "                                                    0\n",
       "bg  [{u'value': u'Космос', u'language': u'bg'}, {u...\n",
       "bs  [{u'value': u'Svemir', u'language': u'bs'}, {u...\n",
       "ca        [{u'value': u'cosmos', u'language': u'ca'}]\n",
       "cs  [{u'value': u'veškerenstvo', u'language': u'cs...\n",
       "de  [{u'value': u'Weltall', u'language': u'de'}, {..."
      ]
     },
     "execution_count": 15,
     "metadata": {},
     "output_type": "execute_result"
    }
   ],
   "source": [
    "A = pd.io.json.json_normalize(js['entities']['Q1']['aliases']).T\n",
    "A.head()"
   ]
  },
  {
   "cell_type": "markdown",
   "metadata": {},
   "source": [
    "### Claims\n",
    "\n",
    "Claims are like propositions, therefore, they have not \"Q\", but \"P\" attribute. We can think of a proposition as a statement or as a kind of advanced property. This allows to accomodate very broad range of facts about things. Some things, which are quite important in asset risk management, are properties that the assets almost always have. For example, cars have the maximum range with full fuel tank. Most mammels have four limbs excluding tail and head. Humans usually have eye color, etc. So, these propositions are really modelling any attribute of a thing that we would want to have, when formulating a goal. By formulating a concept with its claims, we can define a goal."
   ]
  },
  {
   "cell_type": "code",
   "execution_count": 16,
   "metadata": {},
   "outputs": [
    {
     "data": {
      "text/html": [
       "<div>\n",
       "<table border=\"1\" class=\"dataframe\">\n",
       "  <thead>\n",
       "    <tr style=\"text-align: right;\">\n",
       "      <th></th>\n",
       "      <th>0</th>\n",
       "    </tr>\n",
       "  </thead>\n",
       "  <tbody>\n",
       "    <tr>\n",
       "      <th>P1036</th>\n",
       "      <td>[{u'type': u'statement', u'mainsnak': {u'datat...</td>\n",
       "    </tr>\n",
       "    <tr>\n",
       "      <th>P1051</th>\n",
       "      <td>[{u'type': u'statement', u'mainsnak': {u'datat...</td>\n",
       "    </tr>\n",
       "    <tr>\n",
       "      <th>P1245</th>\n",
       "      <td>[{u'type': u'statement', u'mainsnak': {u'datat...</td>\n",
       "    </tr>\n",
       "    <tr>\n",
       "      <th>P1296</th>\n",
       "      <td>[{u'type': u'statement', u'mainsnak': {u'datat...</td>\n",
       "    </tr>\n",
       "    <tr>\n",
       "      <th>P1417</th>\n",
       "      <td>[{u'type': u'statement', u'mainsnak': {u'datat...</td>\n",
       "    </tr>\n",
       "  </tbody>\n",
       "</table>\n",
       "</div>"
      ],
      "text/plain": [
       "                                                       0\n",
       "P1036  [{u'type': u'statement', u'mainsnak': {u'datat...\n",
       "P1051  [{u'type': u'statement', u'mainsnak': {u'datat...\n",
       "P1245  [{u'type': u'statement', u'mainsnak': {u'datat...\n",
       "P1296  [{u'type': u'statement', u'mainsnak': {u'datat...\n",
       "P1417  [{u'type': u'statement', u'mainsnak': {u'datat..."
      ]
     },
     "execution_count": 16,
     "metadata": {},
     "output_type": "execute_result"
    }
   ],
   "source": [
    "C = pd.io.json.json_normalize(js['entities']['Q1']['claims'])\n",
    "C.T.head()"
   ]
  },
  {
   "cell_type": "code",
   "execution_count": 17,
   "metadata": {},
   "outputs": [
    {
     "data": {
      "text/plain": [
       "{u'id': u'Q1$e0ad1310-4ceb-f4de-2440-56de115dfbdc',\n",
       " u'mainsnak': {u'datatype': u'external-id',\n",
       "  u'datavalue': {u'type': u'string', u'value': u'/m/07v7c'},\n",
       "  u'property': u'P646',\n",
       "  u'snaktype': u'value'},\n",
       " u'rank': u'normal',\n",
       " u'type': u'statement'}"
      ]
     },
     "execution_count": 17,
     "metadata": {},
     "output_type": "execute_result"
    }
   ],
   "source": [
    "js['entities']['Q1']['claims'].values()[0][0]"
   ]
  },
  {
   "cell_type": "markdown",
   "metadata": {},
   "source": [
    "Right now, in the **asterisk** all what I need, is just the Q1, and the international representation - the aliases, so that we can define plans in terms of terms with definitions.\n",
    "\n",
    "So, I basically need a **\\__repr\\__** method, that can return the default language."
   ]
  }
 ],
 "metadata": {
  "kernelspec": {
   "display_name": "Python 2",
   "language": "python",
   "name": "python2"
  },
  "language_info": {
   "codemirror_mode": {
    "name": "ipython",
    "version": 2
   },
   "file_extension": ".py",
   "mimetype": "text/x-python",
   "name": "python",
   "nbconvert_exporter": "python",
   "pygments_lexer": "ipython2",
   "version": "2.7.12"
  }
 },
 "nbformat": 4,
 "nbformat_minor": 0
}
