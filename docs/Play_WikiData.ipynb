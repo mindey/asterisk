{
 "cells": [
  {
   "cell_type": "markdown",
   "metadata": {},
   "source": [
    "# Play with [WikiData](https://wikidata.org)\n",
    "\n",
    "https://github.com/mindey/asterisk.git"
   ]
  },
  {
   "cell_type": "code",
   "execution_count": 1,
   "metadata": {},
   "outputs": [],
   "source": [
    "import os\n",
    "os.chdir('..')\n",
    "import asterisk as rx"
   ]
  },
  {
   "cell_type": "markdown",
   "metadata": {},
   "source": [
    "## Simple usage"
   ]
  },
  {
   "cell_type": "code",
   "execution_count": 2,
   "metadata": {},
   "outputs": [
    {
     "data": {
      "text/plain": [
       "<class asterisk.wikidata.Q1 at 0x7f74011abe88>"
      ]
     },
     "execution_count": 2,
     "metadata": {},
     "output_type": "execute_result"
    }
   ],
   "source": [
    "Universe = rx.Concept('Q1')\n",
    "Universe"
   ]
  },
  {
   "cell_type": "code",
   "execution_count": 3,
   "metadata": {},
   "outputs": [],
   "source": [
    "u = Universe()"
   ]
  },
  {
   "cell_type": "code",
   "execution_count": 4,
   "metadata": {},
   "outputs": [
    {
     "data": {
      "text/plain": [
       "Q1"
      ]
     },
     "execution_count": 4,
     "metadata": {},
     "output_type": "execute_result"
    }
   ],
   "source": [
    "u"
   ]
  },
  {
   "cell_type": "code",
   "execution_count": 5,
   "metadata": {},
   "outputs": [
    {
     "data": {
      "text/plain": [
       "u'The Universe'"
      ]
     },
     "execution_count": 5,
     "metadata": {},
     "output_type": "execute_result"
    }
   ],
   "source": [
    "u.lang('en')"
   ]
  },
  {
   "cell_type": "markdown",
   "metadata": {},
   "source": [
    "## Using as abstract instances"
   ]
  },
  {
   "cell_type": "code",
   "execution_count": 6,
   "metadata": {},
   "outputs": [],
   "source": [
    "u = rx.Instance('Q1')"
   ]
  },
  {
   "cell_type": "code",
   "execution_count": 7,
   "metadata": {},
   "outputs": [
    {
     "data": {
      "text/plain": [
       "Q1"
      ]
     },
     "execution_count": 7,
     "metadata": {},
     "output_type": "execute_result"
    }
   ],
   "source": [
    "u"
   ]
  },
  {
   "cell_type": "code",
   "execution_count": 8,
   "metadata": {},
   "outputs": [
    {
     "name": "stdout",
     "output_type": "stream",
     "text": [
      "[u'eo', u'en', u'ca', u'it', u'scn', u'pt-br', u'cs', u'id', u'es', u'ru', u'nl', u'pt', u'lt', u'te', u'pl', u'ta', u'fr', u'bg', u'hr', u'de', u'hu', u'fa', u'bs', u'fi', u'ka', u'ml', u'sv', u'sr', u'nds', u'ilo']\n"
     ]
    }
   ],
   "source": [
    "print u.languages"
   ]
  },
  {
   "cell_type": "code",
   "execution_count": 9,
   "metadata": {},
   "outputs": [
    {
     "data": {
      "text/plain": [
       "{'en': u'The Universe', 'nl': u'universum'}"
      ]
     },
     "execution_count": 9,
     "metadata": {},
     "output_type": "execute_result"
    }
   ],
   "source": [
    "u.lang('en','nl')"
   ]
  },
  {
   "cell_type": "markdown",
   "metadata": {},
   "source": [
    "## Using as abstract instances with constraints"
   ]
  },
  {
   "cell_type": "code",
   "execution_count": 10,
   "metadata": {},
   "outputs": [],
   "source": [
    "from scipy.constants import gravitational_constant"
   ]
  },
  {
   "cell_type": "code",
   "execution_count": 11,
   "metadata": {},
   "outputs": [],
   "source": [
    "Universe = rx.Concept('Q1')"
   ]
  },
  {
   "cell_type": "code",
   "execution_count": 12,
   "metadata": {},
   "outputs": [],
   "source": [
    "u = Universe({'gravity constant': gravitational_constant, 'color': 'black'})"
   ]
  },
  {
   "cell_type": "code",
   "execution_count": 13,
   "metadata": {},
   "outputs": [
    {
     "data": {
      "text/plain": [
       "Q1 ({'color': 'black', 'gravity constant': 6.67408e-11})"
      ]
     },
     "execution_count": 13,
     "metadata": {},
     "output_type": "execute_result"
    }
   ],
   "source": [
    "u"
   ]
  },
  {
   "cell_type": "code",
   "execution_count": 14,
   "metadata": {},
   "outputs": [
    {
     "data": {
      "text/plain": [
       "u'The Universe'"
      ]
     },
     "execution_count": 14,
     "metadata": {},
     "output_type": "execute_result"
    }
   ],
   "source": [
    "u.lang()"
   ]
  },
  {
   "cell_type": "markdown",
   "metadata": {},
   "source": [
    "## Structure of Qs:\n",
    "Essentialy WikiData provides two things, which all concepts are composed of -- is the 'aliases', which are the definitions and labels in all languages, and the 'claims', which are describing the relations with other concepts."
   ]
  },
  {
   "cell_type": "code",
   "execution_count": 15,
   "metadata": {},
   "outputs": [],
   "source": [
    "import pandas as pd"
   ]
  },
  {
   "cell_type": "markdown",
   "metadata": {},
   "source": [
    "### Aliases"
   ]
  },
  {
   "cell_type": "code",
   "execution_count": 16,
   "metadata": {},
   "outputs": [
    {
     "data": {
      "text/plain": [
       "[{u'language': u'en', u'value': u'The Universe'},\n",
       " {u'language': u'en', u'value': u'space'},\n",
       " {u'language': u'en', u'value': u'outerspace'},\n",
       " {u'language': u'en', u'value': u'Cosmos'}]"
      ]
     },
     "execution_count": 16,
     "metadata": {},
     "output_type": "execute_result"
    }
   ],
   "source": [
    "u.concept['entities']['Q1']['aliases']['en']"
   ]
  },
  {
   "cell_type": "code",
   "execution_count": 17,
   "metadata": {},
   "outputs": [
    {
     "data": {
      "text/html": [
       "<div>\n",
       "<table border=\"1\" class=\"dataframe\">\n",
       "  <thead>\n",
       "    <tr style=\"text-align: right;\">\n",
       "      <th></th>\n",
       "      <th>0</th>\n",
       "    </tr>\n",
       "  </thead>\n",
       "  <tbody>\n",
       "    <tr>\n",
       "      <th>bg</th>\n",
       "      <td>[{u'value': u'Космос', u'language': u'bg'}, {u...</td>\n",
       "    </tr>\n",
       "    <tr>\n",
       "      <th>bs</th>\n",
       "      <td>[{u'value': u'Svemir', u'language': u'bs'}, {u...</td>\n",
       "    </tr>\n",
       "    <tr>\n",
       "      <th>ca</th>\n",
       "      <td>[{u'value': u'cosmos', u'language': u'ca'}]</td>\n",
       "    </tr>\n",
       "    <tr>\n",
       "      <th>cs</th>\n",
       "      <td>[{u'value': u'veškerenstvo', u'language': u'cs...</td>\n",
       "    </tr>\n",
       "    <tr>\n",
       "      <th>de</th>\n",
       "      <td>[{u'value': u'Weltall', u'language': u'de'}, {...</td>\n",
       "    </tr>\n",
       "  </tbody>\n",
       "</table>\n",
       "</div>"
      ],
      "text/plain": [
       "                                                    0\n",
       "bg  [{u'value': u'Космос', u'language': u'bg'}, {u...\n",
       "bs  [{u'value': u'Svemir', u'language': u'bs'}, {u...\n",
       "ca        [{u'value': u'cosmos', u'language': u'ca'}]\n",
       "cs  [{u'value': u'veškerenstvo', u'language': u'cs...\n",
       "de  [{u'value': u'Weltall', u'language': u'de'}, {..."
      ]
     },
     "execution_count": 17,
     "metadata": {},
     "output_type": "execute_result"
    }
   ],
   "source": [
    "A = pd.io.json.json_normalize(u.concept['entities']['Q1']['aliases']).T\n",
    "A.head()"
   ]
  },
  {
   "cell_type": "markdown",
   "metadata": {},
   "source": [
    "### Claims\n",
    "\n",
    "Claims are like propositions, therefore, they have not \"Q\", but \"P\" attribute. We can think of a proposition as a statement or as a kind of advanced property. This allows to accomodate very broad range of facts about things. Some things, which are quite important in asset risk management, are properties that the assets almost always have. For example, cars have the maximum range with full fuel tank. Most mammels have four limbs excluding tail and head. Humans usually have eye color, etc. So, these propositions are really modelling any attribute of a thing that we would want to have, when formulating a goal. By formulating a concept with its claims, we can define a goal."
   ]
  },
  {
   "cell_type": "code",
   "execution_count": 18,
   "metadata": {},
   "outputs": [
    {
     "data": {
      "text/html": [
       "<div>\n",
       "<table border=\"1\" class=\"dataframe\">\n",
       "  <thead>\n",
       "    <tr style=\"text-align: right;\">\n",
       "      <th></th>\n",
       "      <th>0</th>\n",
       "    </tr>\n",
       "  </thead>\n",
       "  <tbody>\n",
       "    <tr>\n",
       "      <th>P1036</th>\n",
       "      <td>[{u'type': u'statement', u'mainsnak': {u'datat...</td>\n",
       "    </tr>\n",
       "    <tr>\n",
       "      <th>P1051</th>\n",
       "      <td>[{u'type': u'statement', u'mainsnak': {u'datat...</td>\n",
       "    </tr>\n",
       "    <tr>\n",
       "      <th>P1245</th>\n",
       "      <td>[{u'type': u'statement', u'mainsnak': {u'datat...</td>\n",
       "    </tr>\n",
       "    <tr>\n",
       "      <th>P1296</th>\n",
       "      <td>[{u'type': u'statement', u'mainsnak': {u'datat...</td>\n",
       "    </tr>\n",
       "    <tr>\n",
       "      <th>P1417</th>\n",
       "      <td>[{u'type': u'statement', u'mainsnak': {u'datat...</td>\n",
       "    </tr>\n",
       "  </tbody>\n",
       "</table>\n",
       "</div>"
      ],
      "text/plain": [
       "                                                       0\n",
       "P1036  [{u'type': u'statement', u'mainsnak': {u'datat...\n",
       "P1051  [{u'type': u'statement', u'mainsnak': {u'datat...\n",
       "P1245  [{u'type': u'statement', u'mainsnak': {u'datat...\n",
       "P1296  [{u'type': u'statement', u'mainsnak': {u'datat...\n",
       "P1417  [{u'type': u'statement', u'mainsnak': {u'datat..."
      ]
     },
     "execution_count": 18,
     "metadata": {},
     "output_type": "execute_result"
    }
   ],
   "source": [
    "C = pd.io.json.json_normalize(u.concept['entities']['Q1']['claims'])\n",
    "C.T.head()"
   ]
  },
  {
   "cell_type": "code",
   "execution_count": 19,
   "metadata": {},
   "outputs": [
    {
     "data": {
      "text/plain": [
       "{u'id': u'Q1$e0ad1310-4ceb-f4de-2440-56de115dfbdc',\n",
       " u'mainsnak': {u'datatype': u'external-id',\n",
       "  u'datavalue': {u'type': u'string', u'value': u'/m/07v7c'},\n",
       "  u'property': u'P646',\n",
       "  u'snaktype': u'value'},\n",
       " u'rank': u'normal',\n",
       " u'type': u'statement'}"
      ]
     },
     "execution_count": 19,
     "metadata": {},
     "output_type": "execute_result"
    }
   ],
   "source": [
    "u.concept['entities']['Q1']['claims'].values()[0][0]"
   ]
  },
  {
   "cell_type": "markdown",
   "metadata": {},
   "source": [
    "Right now, in the **asterisk** all what I need, is just the representation in different languages (the aliases), so that we can define plans in terms of terms with definitions. Also, it is good to have the \"claims\", which will later for the basis for creating custom goals by defining custom assets."
   ]
  },
  {
   "cell_type": "code",
   "execution_count": null,
   "metadata": {},
   "outputs": [],
   "source": []
  }
 ],
 "metadata": {
  "kernelspec": {
   "display_name": "Python 2",
   "language": "python",
   "name": "python2"
  },
  "language_info": {
   "codemirror_mode": {
    "name": "ipython",
    "version": 2
   },
   "file_extension": ".py",
   "mimetype": "text/x-python",
   "name": "python",
   "nbconvert_exporter": "python",
   "pygments_lexer": "ipython2",
   "version": "2.7.12"
  }
 },
 "nbformat": 4,
 "nbformat_minor": 0
}
