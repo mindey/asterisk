{
 "cells": [
  {
   "cell_type": "markdown",
   "metadata": {},
   "source": [
    "## Having Multilingual Plans"
   ]
  },
  {
   "cell_type": "code",
   "execution_count": 1,
   "metadata": {},
   "outputs": [],
   "source": [
    "import os\n",
    "os.chdir('..')\n",
    "import asterisk as rx"
   ]
  },
  {
   "cell_type": "code",
   "execution_count": 7,
   "metadata": {},
   "outputs": [],
   "source": [
    "reality = Universe({'gravitational constant': 6.67408e-11},fact=True)"
   ]
  },
  {
   "cell_type": "code",
   "execution_count": 8,
   "metadata": {},
   "outputs": [
    {
     "data": {
      "text/plain": [
       ".The Universe ({'gravitational constant': 6.67408e-11})"
      ]
     },
     "execution_count": 8,
     "metadata": {},
     "output_type": "execute_result"
    }
   ],
   "source": [
    "reality"
   ]
  },
  {
   "cell_type": "markdown",
   "metadata": {},
   "source": [
    "### INPUT\n",
    "The wikidata ID (str), or (dict). If there is no internet connection to WikiData API, you can simply pass a dict.\n",
    "                                                                                                                  \n",
    "### OUTPUT\n",
    "class of WikiData type\n",
    "                                                                                                                  \n",
    "### EXAMPLES"
   ]
  },
  {
   "cell_type": "code",
   "execution_count": 2,
   "metadata": {},
   "outputs": [],
   "source": [
    "Universe = rx.Concept('Q1')"
   ]
  },
  {
   "cell_type": "code",
   "execution_count": 3,
   "metadata": {},
   "outputs": [
    {
     "data": {
      "text/plain": [
       ".The Universe ({'gravitational constant': 6.67408e-11})"
      ]
     },
     "execution_count": 3,
     "metadata": {},
     "output_type": "execute_result"
    }
   ],
   "source": [
    "reality = Universe({'gravitational constant': 6.67408e-11}, fact=True)\n",
    "reality"
   ]
  },
  {
   "cell_type": "code",
   "execution_count": 4,
   "metadata": {},
   "outputs": [
    {
     "data": {
      "text/plain": [
       "*The Universe ({'gravitational constant': 6.69408e-11})"
      ]
     },
     "execution_count": 4,
     "metadata": {},
     "output_type": "execute_result"
    }
   ],
   "source": [
    "desirity = Universe({'gravitational constant': 6.69408e-11}, fact=False)\n",
    "desirity"
   ]
  },
  {
   "cell_type": "code",
   "execution_count": null,
   "metadata": {},
   "outputs": [],
   "source": []
  },
  {
   "cell_type": "code",
   "execution_count": 2,
   "metadata": {},
   "outputs": [
    {
     "data": {
      "text/plain": [
       "<class asterisk.wikidata.Q144 at 0x7f276766ce20>"
      ]
     },
     "execution_count": 2,
     "metadata": {},
     "output_type": "execute_result"
    }
   ],
   "source": [
    "Dog1 = rx.Concept('Q144')\n",
    "Dog1"
   ]
  },
  {
   "cell_type": "code",
   "execution_count": 3,
   "metadata": {},
   "outputs": [],
   "source": [
    "d = Dog1()"
   ]
  },
  {
   "cell_type": "code",
   "execution_count": 4,
   "metadata": {},
   "outputs": [],
   "source": [
    "d = Dog1({'en': 'dog', 'lt': u'šuo'})"
   ]
  },
  {
   "cell_type": "code",
   "execution_count": 5,
   "metadata": {},
   "outputs": [
    {
     "data": {
      "text/plain": [
       "can ({'lt': u'\\u0161uo', 'en': 'dog'})"
      ]
     },
     "execution_count": 5,
     "metadata": {},
     "output_type": "execute_result"
    }
   ],
   "source": [
    "d"
   ]
  },
  {
   "cell_type": "code",
   "execution_count": 11,
   "metadata": {},
   "outputs": [
    {
     "data": {
      "text/plain": [
       "-dog ({'color': 'white'})"
      ]
     },
     "execution_count": 11,
     "metadata": {},
     "output_type": "execute_result"
    }
   ],
   "source": [
    "Dog2 = rx.Concept({'en': 'dog', 'lt': u'šuo'})\n",
    "Dog2({'color': 'white'}, fact=True)"
   ]
  },
  {
   "cell_type": "markdown",
   "metadata": {},
   "source": [
    "In the second case, the class is always of 'Q0' type, which does not correspond to any WikiData concept.\n",
    "However, objects derived from both types then have representations based on their languages. For example:"
   ]
  },
  {
   "cell_type": "code",
   "execution_count": 7,
   "metadata": {},
   "outputs": [
    {
     "data": {
      "text/plain": [
       "can"
      ]
     },
     "execution_count": 7,
     "metadata": {},
     "output_type": "execute_result"
    }
   ],
   "source": [
    "d1 = Dog1()\n",
    "d1"
   ]
  },
  {
   "cell_type": "code",
   "execution_count": 8,
   "metadata": {},
   "outputs": [
    {
     "data": {
      "text/plain": [
       "dog"
      ]
     },
     "execution_count": 8,
     "metadata": {},
     "output_type": "execute_result"
    }
   ],
   "source": [
    "d2 = Dog2()\n",
    "d2"
   ]
  },
  {
   "cell_type": "markdown",
   "metadata": {},
   "source": [
    "The derived objects can have different representations, and default languages are specified in .languages attribute, e.g.:"
   ]
  },
  {
   "cell_type": "code",
   "execution_count": 6,
   "metadata": {},
   "outputs": [
    {
     "data": {
      "text/plain": [
       "['lt', 'en']"
      ]
     },
     "execution_count": 6,
     "metadata": {},
     "output_type": "execute_result"
    }
   ],
   "source": [
    "d2.languages"
   ]
  },
  {
   "cell_type": "markdown",
   "metadata": {},
   "source": [
    "The value is returned in the order of .languages, if set by .set_langs():"
   ]
  },
  {
   "cell_type": "code",
   "execution_count": 7,
   "metadata": {},
   "outputs": [
    {
     "data": {
      "text/plain": [
       "dog"
      ]
     },
     "execution_count": 7,
     "metadata": {},
     "output_type": "execute_result"
    }
   ],
   "source": [
    "d2.set_langs(['en', 'lt'])\n",
    "d2"
   ]
  },
  {
   "cell_type": "markdown",
   "metadata": {},
   "source": [
    "The first available language specified is returned, or if it is not available, the first available language is returned:"
   ]
  },
  {
   "cell_type": "code",
   "execution_count": 8,
   "metadata": {},
   "outputs": [
    {
     "data": {
      "text/plain": [
       "σκυλί"
      ]
     },
     "execution_count": 8,
     "metadata": {},
     "output_type": "execute_result"
    }
   ],
   "source": [
    "d1.set_langs([])\n",
    "d1"
   ]
  },
  {
   "cell_type": "markdown",
   "metadata": {},
   "source": [
    "The WikiData information about claims and aliases is available in .claims and .aliases respectively:"
   ]
  },
  {
   "cell_type": "code",
   "execution_count": 22,
   "metadata": {},
   "outputs": [],
   "source": [
    "#d1.aliases"
   ]
  },
  {
   "cell_type": "code",
   "execution_count": 23,
   "metadata": {},
   "outputs": [],
   "source": [
    "#d1.claims"
   ]
  },
  {
   "cell_type": "code",
   "execution_count": 11,
   "metadata": {},
   "outputs": [
    {
     "data": {
      "text/plain": [
       "{'en': [{'language': 'en', 'value': 'dog'}],\n",
       " 'lt': [{'language': 'lt', 'value': u'\\u0161uo'}]}"
      ]
     },
     "execution_count": 11,
     "metadata": {},
     "output_type": "execute_result"
    }
   ],
   "source": [
    "d2.aliases"
   ]
  },
  {
   "cell_type": "code",
   "execution_count": 12,
   "metadata": {},
   "outputs": [
    {
     "data": {
      "text/plain": [
       "{}"
      ]
     },
     "execution_count": 12,
     "metadata": {},
     "output_type": "execute_result"
    }
   ],
   "source": [
    "d2.claims"
   ]
  },
  {
   "cell_type": "markdown",
   "metadata": {},
   "source": [
    "Additionally, each claim (property) is available as an attribute, for example 'Q189539' represents a loan,"
   ]
  },
  {
   "cell_type": "code",
   "execution_count": 13,
   "metadata": {},
   "outputs": [],
   "source": [
    "Loan = rx.Concept('Q189539')"
   ]
  },
  {
   "cell_type": "markdown",
   "metadata": {},
   "source": [
    "We can know that loans have qualitiy (P1552) of:"
   ]
  },
  {
   "cell_type": "code",
   "execution_count": 14,
   "metadata": {},
   "outputs": [],
   "source": [
    "# Loan.P1552\n",
    "# interest rate\n",
    "# lender\n",
    "# issue date\n",
    "# Term\n",
    "# Collateral\n",
    "# Debtor\n",
    "# entity\n",
    "# quantity"
   ]
  },
  {
   "cell_type": "markdown",
   "metadata": {},
   "source": [
    "The knowledge of qualities may allow us to formulate goals, and know in advance, what to look for in this type of things."
   ]
  },
  {
   "cell_type": "markdown",
   "metadata": {},
   "source": [
    "Each property, in turn, can have nested information provided about itself in terms of P and Q values."
   ]
  },
  {
   "cell_type": "markdown",
   "metadata": {},
   "source": [
    "We can create instances with details"
   ]
  },
  {
   "cell_type": "code",
   "execution_count": 15,
   "metadata": {},
   "outputs": [
    {
     "data": {
      "text/plain": [
       "préstamo ({'lender': 'John', 'debtor': 'Julia', 'amount': 1000})"
      ]
     },
     "execution_count": 15,
     "metadata": {},
     "output_type": "execute_result"
    }
   ],
   "source": [
    "l1 = Loan({'lender': 'John', 'debtor': 'Julia', 'amount': 1000})\n",
    "l1"
   ]
  },
  {
   "cell_type": "markdown",
   "metadata": {},
   "source": [
    "Now, we will later implement the method \"save\" to save the instances to general database as:"
   ]
  },
  {
   "cell_type": "code",
   "execution_count": 16,
   "metadata": {},
   "outputs": [],
   "source": [
    "# l1.save()"
   ]
  },
  {
   "cell_type": "markdown",
   "metadata": {},
   "source": [
    "This will allow to keep one database of any things. As described in the ``ai.py``, we could use several custom constructors to record the Goals and Facts about the world:"
   ]
  },
  {
   "cell_type": "code",
   "execution_count": 17,
   "metadata": {},
   "outputs": [],
   "source": [
    "# imaginary_loan = Loan.goal({'lender': 'John', 'debtor': 'Julia', 'amount': 1000})\n",
    "# actual_loan = Loan.fact({'lender': 'John', 'debtor': 'Julia', 'amount': 1000})"
   ]
  },
  {
   "cell_type": "code",
   "execution_count": 18,
   "metadata": {},
   "outputs": [],
   "source": [
    "Spaceship = rx.Concept('Q40218')"
   ]
  },
  {
   "cell_type": "code",
   "execution_count": 19,
   "metadata": {},
   "outputs": [],
   "source": [
    "# imaginary_spaceship = Spaceship.goal({'tons to Low-Earth Orbit': 500})\n",
    "# existing_spaceship = Spaceship.fact({'tons to Low-Earth Orbit': 10})"
   ]
  },
  {
   "cell_type": "code",
   "execution_count": 20,
   "metadata": {},
   "outputs": [
    {
     "data": {
      "text/plain": [
       "spaceship ({'tons to Low-Earth Orbit': 500})"
      ]
     },
     "execution_count": 20,
     "metadata": {},
     "output_type": "execute_result"
    }
   ],
   "source": [
    "s = Spaceship({'tons to Low-Earth Orbit': 500})\n",
    "s"
   ]
  },
  {
   "cell_type": "code",
   "execution_count": 24,
   "metadata": {},
   "outputs": [
    {
     "name": "stdout",
     "output_type": "stream",
     "text": [
      "Q1196314 (| yi: סטאק | en: Stock share | my: Stock |)\n",
      "\n",
      "Propositions\n",
      "============\n",
      "P646 : {u'type': u'string', u'value': u'/m/077mq'}\n",
      "P910 : {u'type': u'wikibase-entityid', u'value': {u'id': u'Q6572301', u'entity-type': u'item', u'numeric-id': 6572301}}\n",
      "P1890 : {u'type': u'string', u'value': u'000000056'}\n",
      "P279 : {u'type': u'wikibase-entityid', u'value': {u'id': u'Q169489', u'entity-type': u'item', u'numeric-id': 169489}}\n",
      "P1552 : {u'type': u'wikibase-entityid', u'value': {u'id': u'Q756115', u'entity-type': u'item', u'numeric-id': 756115}}\n",
      "P1552 : {u'type': u'wikibase-entityid', u'value': {u'id': u'Q180107', u'entity-type': u'item', u'numeric-id': 180107}}\n",
      "\n",
      "\n",
      "Qualities (P1552)\n",
      "=================\n",
      "Q756115 : {u'type': u'statement', u'mainsnak': {u'datatype': u'wikibase-item', u'datavalue': {u'type': u'wikibase-entityid', u'value': {u'id': u'Q756115', u'entity-type': u'item', u'numeric-id': 756115}}, u'property': u'P1552', u'snaktype': u'value'}, u'id': u'Q1196314$fce0e919-4d78-6aaa-8c05-40201ba5f4a3', u'rank': u'normal'}\n",
      "Q180107 : {u'type': u'statement', u'mainsnak': {u'datatype': u'wikibase-item', u'datavalue': {u'type': u'wikibase-entityid', u'value': {u'id': u'Q180107', u'entity-type': u'item', u'numeric-id': 180107}}, u'property': u'P1552', u'snaktype': u'value'}, u'id': u'Q1196314$024189b9-4ecb-3cad-b25d-ded38c30df1c', u'rank': u'normal'}\n",
      "\n"
     ]
    }
   ],
   "source": [
    "Stock = rx.Concept('Q1196314')\n",
    "print Stock.__doc__"
   ]
  },
  {
   "cell_type": "code",
   "execution_count": 25,
   "metadata": {},
   "outputs": [
    {
     "name": "stdout",
     "output_type": "stream",
     "text": [
      "Q189539 (| yi: הלוואה | el: Άτοκο δάνειο | fr: Prêts | ur: Loan | zh: 貸款 | nb: Utlån | pt: Sobre-endividamento | ru: Заем | arz: قرض | de: Darlehen (Deutschland) | it: Finanziamento | sv: Utlåning | tl: Loan | uk: Уніфікація позик | fi: Annuiteettilaina | cs: smlouva o půjčce | et: Laenud | nl: geldlening | da: Seniorlån | ja: ローン | es: préstamo |)\n",
      "\n",
      "Propositions\n",
      "============\n",
      "P646 : {u'type': u'string', u'value': u'/m/01dnzs'}\n",
      "P910 : {u'type': u'wikibase-entityid', u'value': {u'id': u'Q6571719', u'entity-type': u'item', u'numeric-id': 6571719}}\n",
      "P373 : {u'type': u'string', u'value': u'Loans'}\n",
      "P279 : {u'type': u'wikibase-entityid', u'value': {u'id': u'Q15809678', u'entity-type': u'item', u'numeric-id': 15809678}}\n",
      "P227 : {u'type': u'string', u'value': u'4011058-8'}\n",
      "P1552 : {u'type': u'wikibase-entityid', u'value': {u'id': u'Q179179', u'entity-type': u'item', u'numeric-id': 179179}}\n",
      "P1552 : {u'type': u'wikibase-entityid', u'value': {u'id': u'Q26726369', u'entity-type': u'item', u'numeric-id': 26726369}}\n",
      "P1552 : {u'type': u'wikibase-entityid', u'value': {u'id': u'Q26726966', u'entity-type': u'item', u'numeric-id': 26726966}}\n",
      "P1552 : {u'type': u'wikibase-entityid', u'value': {u'id': u'Q1188986', u'entity-type': u'item', u'numeric-id': 1188986}}\n",
      "P1552 : {u'type': u'wikibase-entityid', u'value': {u'id': u'Q20735547', u'entity-type': u'item', u'numeric-id': 20735547}}\n",
      "P1552 : {u'type': u'wikibase-entityid', u'value': {u'id': u'Q157470', u'entity-type': u'item', u'numeric-id': 157470}}\n",
      "P1552 : {u'type': u'wikibase-entityid', u'value': {u'id': u'Q35120', u'entity-type': u'item', u'numeric-id': 35120}}\n",
      "P1552 : {u'type': u'wikibase-entityid', u'value': {u'id': u'Q309314', u'entity-type': u'item', u'numeric-id': 309314}}\n",
      "\n",
      "\n",
      "Qualities (P1552)\n",
      "=================\n",
      "Q179179 : {u'type': u'statement', u'mainsnak': {u'datatype': u'wikibase-item', u'datavalue': {u'type': u'wikibase-entityid', u'value': {u'id': u'Q179179', u'entity-type': u'item', u'numeric-id': 179179}}, u'property': u'P1552', u'snaktype': u'value'}, u'id': u'Q189539$8a6dbb61-41e5-2652-d2a7-ac3e205ead72', u'rank': u'normal'}\n",
      "Q26726369 : {u'mainsnak': {u'datatype': u'wikibase-item', u'datavalue': {u'type': u'wikibase-entityid', u'value': {u'id': u'Q26726369', u'entity-type': u'item', u'numeric-id': 26726369}}, u'property': u'P1552', u'snaktype': u'value'}, u'rank': u'normal', u'id': u'Q189539$50f4c662-437c-7747-5430-de371e85065c', u'qualifiers-order': [u'P31'], u'type': u'statement', u'qualifiers': {u'P31': [{u'datatype': u'wikibase-item', u'datavalue': {u'type': u'wikibase-entityid', u'value': {u'id': u'Q19817303', u'entity-type': u'item', u'numeric-id': 19817303}}, u'property': u'P31', u'hash': u'b7c72a8862c68e1a659c94933ec2d0519af07ee8', u'snaktype': u'value'}]}}\n",
      "Q26726966 : {u'type': u'statement', u'mainsnak': {u'datatype': u'wikibase-item', u'datavalue': {u'type': u'wikibase-entityid', u'value': {u'id': u'Q26726966', u'entity-type': u'item', u'numeric-id': 26726966}}, u'property': u'P1552', u'snaktype': u'value'}, u'id': u'Q189539$1a879f05-4641-7e13-97f5-3b4dcd85a2b8', u'rank': u'normal'}\n",
      "Q1188986 : {u'type': u'statement', u'mainsnak': {u'datatype': u'wikibase-item', u'datavalue': {u'type': u'wikibase-entityid', u'value': {u'id': u'Q1188986', u'entity-type': u'item', u'numeric-id': 1188986}}, u'property': u'P1552', u'snaktype': u'value'}, u'id': u'Q189539$d0dcdba5-4094-12e2-17ce-b44b6a6240cb', u'rank': u'normal'}\n",
      "Q20735547 : {u'type': u'statement', u'mainsnak': {u'datatype': u'wikibase-item', u'datavalue': {u'type': u'wikibase-entityid', u'value': {u'id': u'Q20735547', u'entity-type': u'item', u'numeric-id': 20735547}}, u'property': u'P1552', u'snaktype': u'value'}, u'id': u'Q189539$23667c51-4148-1a65-0360-85538c901785', u'rank': u'normal'}\n",
      "Q157470 : {u'type': u'statement', u'mainsnak': {u'datatype': u'wikibase-item', u'datavalue': {u'type': u'wikibase-entityid', u'value': {u'id': u'Q157470', u'entity-type': u'item', u'numeric-id': 157470}}, u'property': u'P1552', u'snaktype': u'value'}, u'id': u'Q189539$73772270-4380-9d8e-22a4-222286109db9', u'rank': u'normal'}\n",
      "Q35120 : {u'type': u'statement', u'mainsnak': {u'datatype': u'wikibase-item', u'datavalue': {u'type': u'wikibase-entityid', u'value': {u'id': u'Q35120', u'entity-type': u'item', u'numeric-id': 35120}}, u'property': u'P1552', u'snaktype': u'value'}, u'id': u'Q189539$cac7585e-4c42-88c7-8584-30cec377483f', u'rank': u'normal'}\n",
      "Q309314 : {u'type': u'statement', u'mainsnak': {u'datatype': u'wikibase-item', u'datavalue': {u'type': u'wikibase-entityid', u'value': {u'id': u'Q309314', u'entity-type': u'item', u'numeric-id': 309314}}, u'property': u'P1552', u'snaktype': u'value'}, u'id': u'Q189539$796281ff-44ec-7b75-04cd-3e439e0eabb2', u'rank': u'normal'}\n",
      "\n"
     ]
    }
   ],
   "source": [
    "Loan = rx.Concept('Q189539')\n",
    "print Loan.__doc__"
   ]
  },
  {
   "cell_type": "code",
   "execution_count": 26,
   "metadata": {},
   "outputs": [
    {
     "name": "stdout",
     "output_type": "stream",
     "text": [
      "Q11423 (| de: Ruhemasse |)\n",
      "\n",
      "Propositions\n",
      "============\n",
      "P646 : {u'type': u'string', u'value': u'/m/04t9l'}\n",
      "P416 : {u'type': u'string', u'value': u'm'}\n",
      "P1687 : {u'type': u'wikibase-entityid', u'value': {u'id': u'P2067', u'entity-type': u'property', u'numeric-id': 2067}}\n",
      "P361 : {u'type': u'wikibase-entityid', u'value': {u'id': u'Q35875', u'entity-type': u'item', u'numeric-id': 35875}}\n",
      "P361 : {u'type': u'wikibase-entityid', u'value': {u'id': u'Q11402', u'entity-type': u'item', u'numeric-id': 11402}}\n",
      "P349 : {u'type': u'string', u'value': u'00571299'}\n",
      "P373 : {u'type': u'string', u'value': u'Mass'}\n",
      "P1417 : {u'type': u'string', u'value': u'science/mass-physics'}\n",
      "P227 : {u'type': u'string', u'value': u'4169025-4'}\n",
      "P1051 : {u'type': u'string', u'value': u'2916'}\n",
      "P1709 : {u'type': u'string', u'value': u'http://schema.org/Mass'}\n",
      "P1552 : {u'type': u'wikibase-entityid', u'value': {u'id': u'Q19110', u'entity-type': u'item', u'numeric-id': 19110}}\n",
      "P18 : {u'type': u'string', u'value': u'CGKilogram.jpg'}\n",
      "P18 : {u'type': u'string', u'value': u'2kg Gewicht freigeschnitten.jpg'}\n",
      "P18 : {u'type': u'string', u'value': u'Standard kilogram, 2.jpg'}\n",
      "P1343 : {u'type': u'wikibase-entityid', u'value': {u'id': u'Q2657718', u'entity-type': u'item', u'numeric-id': 2657718}}\n",
      "P31 : {u'type': u'wikibase-entityid', u'value': {u'id': u'Q181175', u'entity-type': u'item', u'numeric-id': 181175}}\n",
      "P31 : {u'type': u'wikibase-entityid', u'value': {u'id': u'Q3386703', u'entity-type': u'item', u'numeric-id': 3386703}}\n",
      "P910 : {u'type': u'wikibase-entityid', u'value': {u'id': u'Q5911532', u'entity-type': u'item', u'numeric-id': 5911532}}\n",
      "\n",
      "\n",
      "Qualities (P1552)\n",
      "=================\n",
      "Q19110 : {u'mainsnak': {u'datatype': u'wikibase-item', u'datavalue': {u'type': u'wikibase-entityid', u'value': {u'id': u'Q19110', u'entity-type': u'item', u'numeric-id': 19110}}, u'property': u'P1552', u'snaktype': u'value'}, u'rank': u'normal', u'id': u'Q11423$963ccbde-4837-0015-a090-cd4ede28d678', u'qualifiers-order': [u'P2534'], u'type': u'statement', u'qualifiers': {u'P2534': [{u'datatype': u'math', u'datavalue': {u'type': u'string', u'value': u'M'}, u'property': u'P2534', u'hash': u'eef9d848d8cf710ca5e83e8aff02cbefcf462d17', u'snaktype': u'value'}]}}\n",
      "\n"
     ]
    }
   ],
   "source": [
    "Mass = rx.Concept('Q11423')\n",
    "print Mass.__doc__"
   ]
  },
  {
   "cell_type": "code",
   "execution_count": 32,
   "metadata": {},
   "outputs": [
    {
     "data": {
      "text/plain": [
       "(<class asterisk.wikidata.Q144 at 0x7f9a329acb48>,\n",
       " <class asterisk.wikidata.Q146 at 0x7f9a329acbb0>)"
      ]
     },
     "execution_count": 32,
     "metadata": {},
     "output_type": "execute_result"
    }
   ],
   "source": [
    "Dog = rx.Concept('Q144')\n",
    "Cat = rx.Concept('Q146')\n",
    "Dog, Cat"
   ]
  },
  {
   "cell_type": "code",
   "execution_count": 33,
   "metadata": {},
   "outputs": [
    {
     "data": {
      "text/plain": [
       "can ({'name': u'Funny'})"
      ]
     },
     "execution_count": 33,
     "metadata": {},
     "output_type": "execute_result"
    }
   ],
   "source": [
    "dog = Dog({'name': u'Funny'}) # Dog.goal()\n",
    "dog"
   ]
  },
  {
   "cell_type": "code",
   "execution_count": 34,
   "metadata": {},
   "outputs": [
    {
     "data": {
      "text/plain": [
       "housecat ({'name': 'Curious'})"
      ]
     },
     "execution_count": 34,
     "metadata": {},
     "output_type": "execute_result"
    }
   ],
   "source": [
    "cat = Cat({'name': 'Curious'}) # Cat.fact()\n",
    "cat"
   ]
  },
  {
   "cell_type": "code",
   "execution_count": 35,
   "metadata": {},
   "outputs": [],
   "source": [
    "import pandas as pd"
   ]
  },
  {
   "cell_type": "markdown",
   "metadata": {},
   "source": [
    "### Multilingual Conceptual DataFrame..."
   ]
  },
  {
   "cell_type": "code",
   "execution_count": 36,
   "metadata": {},
   "outputs": [
    {
     "data": {
      "text/html": [
       "<div>\n",
       "<table border=\"1\" class=\"dataframe\">\n",
       "  <thead>\n",
       "    <tr style=\"text-align: right;\">\n",
       "      <th></th>\n",
       "      <th>can</th>\n",
       "      <th>housecat</th>\n",
       "    </tr>\n",
       "  </thead>\n",
       "  <tbody>\n",
       "    <tr>\n",
       "      <th>0</th>\n",
       "      <td>1</td>\n",
       "      <td>4</td>\n",
       "    </tr>\n",
       "    <tr>\n",
       "      <th>1</th>\n",
       "      <td>2</td>\n",
       "      <td>5</td>\n",
       "    </tr>\n",
       "    <tr>\n",
       "      <th>2</th>\n",
       "      <td>4</td>\n",
       "      <td>6</td>\n",
       "    </tr>\n",
       "  </tbody>\n",
       "</table>\n",
       "</div>"
      ],
      "text/plain": [
       "   can  housecat\n",
       "0    1         4\n",
       "1    2         5\n",
       "2    4         6"
      ]
     },
     "execution_count": 36,
     "metadata": {},
     "output_type": "execute_result"
    }
   ],
   "source": [
    "pd.DataFrame({dog: [1,2,4], cat: [4,5,6]})"
   ]
  },
  {
   "cell_type": "markdown",
   "metadata": {},
   "source": [
    "### Plans with real assets..."
   ]
  },
  {
   "cell_type": "code",
   "execution_count": 37,
   "metadata": {},
   "outputs": [],
   "source": [
    "import plandf"
   ]
  },
  {
   "cell_type": "code",
   "execution_count": 38,
   "metadata": {},
   "outputs": [
    {
     "data": {
      "text/html": [
       "<div>\n",
       "<table border=\"1\" class=\"dataframe\">\n",
       "  <thead>\n",
       "    <tr>\n",
       "      <th></th>\n",
       "      <th>input</th>\n",
       "      <th colspan=\"2\" halign=\"left\">output</th>\n",
       "    </tr>\n",
       "    <tr>\n",
       "      <th>Step #ID</th>\n",
       "      <th>time</th>\n",
       "      <th>cake</th>\n",
       "      <th>sandwitch</th>\n",
       "    </tr>\n",
       "  </thead>\n",
       "  <tbody>\n",
       "    <tr>\n",
       "      <th>0</th>\n",
       "      <td>{u'max_units': u'1.2', u'min_units': u'0.75', ...</td>\n",
       "      <td>{u'max_units': u'2', u'min_units': u'1', u'pri...</td>\n",
       "      <td>NaN</td>\n",
       "    </tr>\n",
       "    <tr>\n",
       "      <th>1</th>\n",
       "      <td>{u'max_units': u'1.5', u'min_units': u'1.5', u...</td>\n",
       "      <td>NaN</td>\n",
       "      <td>{u'max_units': u'10', u'min_units': u'10', u'p...</td>\n",
       "    </tr>\n",
       "  </tbody>\n",
       "</table>\n",
       "</div>"
      ],
      "text/plain": [
       "                                                      input  \\\n",
       "Step #ID                                               time   \n",
       "0         {u'max_units': u'1.2', u'min_units': u'0.75', ...   \n",
       "1         {u'max_units': u'1.5', u'min_units': u'1.5', u...   \n",
       "\n",
       "                                                     output  \\\n",
       "Step #ID                                               cake   \n",
       "0         {u'max_units': u'2', u'min_units': u'1', u'pri...   \n",
       "1                                                       NaN   \n",
       "\n",
       "                                                             \n",
       "Step #ID                                          sandwitch  \n",
       "0                                                       NaN  \n",
       "1         {u'max_units': u'10', u'min_units': u'10', u'p...  "
      ]
     },
     "execution_count": 38,
     "metadata": {},
     "output_type": "execute_result"
    }
   ],
   "source": [
    "p = plandf.PlanMaker([\n",
    "    ('time: 0.75~1.2[1.]@1h', 'cake: 1~2@1h'),\n",
    "    ('time: 1.5@1h', 'sandwitch: 10@0.06h'),\n",
    "])\n",
    "p.df"
   ]
  },
  {
   "cell_type": "code",
   "execution_count": null,
   "metadata": {},
   "outputs": [],
   "source": []
  }
 ],
 "metadata": {
  "kernelspec": {
   "display_name": "Python 2",
   "language": "python",
   "name": "python2"
  },
  "language_info": {
   "codemirror_mode": {
    "name": "ipython",
    "version": 2
   },
   "file_extension": ".py",
   "mimetype": "text/x-python",
   "name": "python",
   "nbconvert_exporter": "python",
   "pygments_lexer": "ipython2",
   "version": "2.7.12"
  }
 },
 "nbformat": 4,
 "nbformat_minor": 0
}
