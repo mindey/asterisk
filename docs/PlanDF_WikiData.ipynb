{
 "cells": [
  {
   "cell_type": "markdown",
   "metadata": {},
   "source": [
    "## Having Multilingual Plans"
   ]
  },
  {
   "cell_type": "code",
   "execution_count": 1,
   "metadata": {},
   "outputs": [],
   "source": [
    "import os\n",
    "os.chdir('..')\n",
    "import asterisk as rx"
   ]
  },
  {
   "cell_type": "code",
   "execution_count": 2,
   "metadata": {},
   "outputs": [
    {
     "data": {
      "text/plain": [
       "(<class asterisk.wikidata.Q144 at 0x7f069ccc30b8>,\n",
       " <class asterisk.wikidata.Q146 at 0x7f069cdbcc18>)"
      ]
     },
     "execution_count": 2,
     "metadata": {},
     "output_type": "execute_result"
    }
   ],
   "source": [
    "Dog = rx.Concept('Q144')\n",
    "Cat = rx.Concept('Q146')\n",
    "Dog, Cat"
   ]
  },
  {
   "cell_type": "code",
   "execution_count": 3,
   "metadata": {},
   "outputs": [
    {
     "data": {
      "text/plain": [
       "狗 ({'name': u'Funny'})"
      ]
     },
     "execution_count": 3,
     "metadata": {},
     "output_type": "execute_result"
    }
   ],
   "source": [
    "dog = Dog({'name': u'Funny'})\n",
    "dog"
   ]
  },
  {
   "cell_type": "code",
   "execution_count": 4,
   "metadata": {},
   "outputs": [
    {
     "data": {
      "text/plain": [
       "housecat ({'name': 'Curious'})"
      ]
     },
     "execution_count": 4,
     "metadata": {},
     "output_type": "execute_result"
    }
   ],
   "source": [
    "cat = Cat({'name': 'Curious'})\n",
    "cat"
   ]
  },
  {
   "cell_type": "code",
   "execution_count": 5,
   "metadata": {},
   "outputs": [],
   "source": [
    "import pandas as pd"
   ]
  },
  {
   "cell_type": "code",
   "execution_count": 6,
   "metadata": {},
   "outputs": [
    {
     "data": {
      "text/html": [
       "<div>\n",
       "<table border=\"1\" class=\"dataframe\">\n",
       "  <thead>\n",
       "    <tr style=\"text-align: right;\">\n",
       "      <th></th>\n",
       "      <th>狗</th>\n",
       "      <th>housecat</th>\n",
       "    </tr>\n",
       "  </thead>\n",
       "  <tbody>\n",
       "    <tr>\n",
       "      <th>0</th>\n",
       "      <td>1</td>\n",
       "      <td>4</td>\n",
       "    </tr>\n",
       "    <tr>\n",
       "      <th>1</th>\n",
       "      <td>2</td>\n",
       "      <td>5</td>\n",
       "    </tr>\n",
       "    <tr>\n",
       "      <th>2</th>\n",
       "      <td>4</td>\n",
       "      <td>6</td>\n",
       "    </tr>\n",
       "  </tbody>\n",
       "</table>\n",
       "</div>"
      ],
      "text/plain": [
       "   狗  housecat\n",
       "0  1         4\n",
       "1  2         5\n",
       "2  4         6"
      ]
     },
     "execution_count": 6,
     "metadata": {},
     "output_type": "execute_result"
    }
   ],
   "source": [
    "pd.DataFrame({dog: [1,2,4], cat: [4,5,6]})"
   ]
  },
  {
   "cell_type": "code",
   "execution_count": 5,
   "metadata": {},
   "outputs": [
    {
     "data": {
      "text/html": [
       "<div>\n",
       "<table border=\"1\" class=\"dataframe\">\n",
       "  <thead>\n",
       "    <tr>\n",
       "      <th></th>\n",
       "      <th>input</th>\n",
       "      <th colspan=\"2\" halign=\"left\">output</th>\n",
       "    </tr>\n",
       "    <tr>\n",
       "      <th>Step #ID</th>\n",
       "      <th>time</th>\n",
       "      <th>cake</th>\n",
       "      <th>sandwitch</th>\n",
       "    </tr>\n",
       "  </thead>\n",
       "  <tbody>\n",
       "    <tr>\n",
       "      <th>0</th>\n",
       "      <td>{u'max_units': u'1.2', u'min_units': u'0.75', ...</td>\n",
       "      <td>{u'max_units': u'2', u'min_units': u'1', u'pri...</td>\n",
       "      <td>NaN</td>\n",
       "    </tr>\n",
       "    <tr>\n",
       "      <th>1</th>\n",
       "      <td>{u'max_units': u'1.5', u'min_units': u'1.5', u...</td>\n",
       "      <td>NaN</td>\n",
       "      <td>{u'max_units': u'10', u'min_units': u'10', u'p...</td>\n",
       "    </tr>\n",
       "  </tbody>\n",
       "</table>\n",
       "</div>"
      ],
      "text/plain": [
       "                                                      input  \\\n",
       "Step #ID                                               time   \n",
       "0         {u'max_units': u'1.2', u'min_units': u'0.75', ...   \n",
       "1         {u'max_units': u'1.5', u'min_units': u'1.5', u...   \n",
       "\n",
       "                                                     output  \\\n",
       "Step #ID                                               cake   \n",
       "0         {u'max_units': u'2', u'min_units': u'1', u'pri...   \n",
       "1                                                       NaN   \n",
       "\n",
       "                                                             \n",
       "Step #ID                                          sandwitch  \n",
       "0                                                       NaN  \n",
       "1         {u'max_units': u'10', u'min_units': u'10', u'p...  "
      ]
     },
     "execution_count": 5,
     "metadata": {},
     "output_type": "execute_result"
    }
   ],
   "source": [
    "p = plandf.PlanMaker([\n",
    "    ('time: 0.75~1.2[1.]@1h', 'cake: 1~2@1h'),\n",
    "    ('time: 1.5@1h', 'sandwitch: 10@0.06h'),\n",
    "])\n",
    "p.df"
   ]
  },
  {
   "cell_type": "code",
   "execution_count": null,
   "metadata": {},
   "outputs": [],
   "source": []
  }
 ],
 "metadata": {
  "kernelspec": {
   "display_name": "Python 2",
   "language": "python",
   "name": "python2"
  },
  "language_info": {
   "codemirror_mode": {
    "name": "ipython",
    "version": 2
   },
   "file_extension": ".py",
   "mimetype": "text/x-python",
   "name": "python",
   "nbconvert_exporter": "python",
   "pygments_lexer": "ipython2",
   "version": "2.7.12"
  }
 },
 "nbformat": 4,
 "nbformat_minor": 0
}
